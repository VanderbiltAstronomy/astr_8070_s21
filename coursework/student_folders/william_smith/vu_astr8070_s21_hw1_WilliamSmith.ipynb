{
 "cells": [
  {
   "cell_type": "markdown",
   "metadata": {},
   "source": [
    "### ASTR 8070: Astrostatistics\n",
    "***S. R. Taylor***\n",
    "___\n",
    "\n",
    "# Homework 1\n",
    "### Due: Saturday, Jan 30th at 11.59pm CST\n",
    "---"
   ]
  },
  {
   "cell_type": "markdown",
   "metadata": {},
   "source": [
    "## Problem 1\n",
    "\n",
    "Practice your git and GitHub skills by submitting this homework via GitHub.  You can skip Steps 1-4 if you have already completed the in-class work of Lecture 1.  Steps 5-11 are the new steps.  \n",
    "\n",
    "1) Navigate to https://github.com/VanderbiltAstronomy/astr_8070_s21 on your browser. **Don't clone this!** Instead, look to the rop right of the page for an option to fork the repository. Do this now. This will make a copy of the class repository for your own personal use.\n",
    "\n",
    "2) Now that you have a fork of the repository, clone it to your machine.\n",
    "\n",
    "    $ git clone https://github.com/YOUR_USERNAME/astr_8070_s21\n",
    "\n",
    "3) Add the original `VanderbiltAstronomy` repository as an `upstream` repository to your fork. First, list the current configured remote repository for your fork with:\n",
    "\n",
    "    $ git remote -v\n",
    "    \n",
    "Now, add the `VanderbiltAstronomy` repo as an upstream:\n",
    "\n",
    "    $ git remote add upstream https://github.com/VanderbiltAstronomy/astr_8070_s21\n",
    "    \n",
    "Verify that the new repository shows as an `upstream` by running `git remote -v` again.\n",
    "\n",
    "4) Get used to syncing upstream content to your fork with:\n",
    "\n",
    "    $ git fetch upstream\n",
    "    \n",
    "    $ git checkout main\n",
    "    \n",
    "    $ git merge upstream/main\n",
    "\n",
    "5) Now, navigate to `coursework/student_folders` folder. Make a folder in here labeled by your name in all lowercase(i.e. `firstname_lastname`).\n",
    "\n",
    "6) Copy your completed lecture notebooks (with all exercises in red finished) to your folder, adding your name to the file (e.g. `Lecture_1b_FirstnameLastname.ipynb`). This is what you will do for each week's lecture notebooks to get participation credit. Your lecture notebooks should have already been copies of my base lecture notebooks. **Never** run my base notebooks; always make a personal copy for yourself.\n",
    "\n",
    "7) Copy the **Homework 1** notebook (this file) to your folder, adding your name (e.g. `vu_astr8070_s21_hw1_FirstnameLastname.ipynb`) \n",
    "\n",
    "8) Complete the other problems listed below.\n",
    "\n",
    "9) Submit your homework as follows (making sure that your added files are contained within your student folder):\n",
    "\n",
    "    $ git add vu_astr8070_s21_hw1_FirstnameLastname.ipynb\n",
    "    \n",
    "    $ git commit -a -m \"Uploaded Homework 1\"\n",
    "    \n",
    "    $ git push\n",
    "   \n",
    "10) Similarly add, commit, and push your completed lecture notebooks. \n",
    "\n",
    "11) On your browser, navigate on GitHub to your fork of the course repository. You should see an option to initiate a `pull request` to merge your changes into the `main` repository. Your homework and lecture notebooks for the week are submitted when you initiate this pull request."
   ]
  },
  {
   "cell_type": "markdown",
   "metadata": {},
   "source": [
    "## Problem 2\n",
    "\n"
   ]
  },
  {
   "cell_type": "markdown",
   "metadata": {},
   "source": [
    "Consider a family with two children. Assume that the probability of females and males being born is equal, i.e. $p(F)=0.5$ and $p(M)=0.5$. Remember that \"given\" means your calculation is conditioned on some already fixed data or outcome. \n",
    "\n",
    "1) What is the probability of one male and one female **GIVEN** that the first child is male. \n",
    "\n",
    "2) What is the probability of two females **GIVEN** that at least one child is female.\n",
    "\n",
    "3) What is the probability of two females **GIVEN** that the older child is female.\n",
    "\n",
    "You will find it easiest to answer these questions by sketching a \"tree diagram\" to visualize the options for the oldest child, and the branching options for the youngest child. \n",
    "\n",
    "Either write your solution as Markdown/Latex below, or paste in a scanned image of your handwritten solution."
   ]
  },
  {
   "cell_type": "markdown",
   "metadata": {},
   "source": [
    "### Solution"
   ]
  },
  {
   "cell_type": "markdown",
   "metadata": {},
   "source": [
    "1) *(To get you started)* If the first child is male, then the only unknown is the sex of the second child. We want the second child to be female, which has a probability of 0.5. Thus, $p(F,M |C_1=M) = 0.5$. \n",
    "\n",
    "2) Let's look at all of the possible two-child combinations of boys and girls (in my notation of older child-younger child). There is: Girl-Girl, Girl-Boy, Boy-Girl, and Boy-Boy, each with $p=0.25$ (or $p=0.5$ at each 'branch' independently for each two-child combination). If we know that one child is female, we know we are dealing with the first three of the four cases, but don't know which one, though we know the probability of Boy-Boy is now conditionally zero. Since only one of these three cases is Girl-Girl, and the other two are Girl-Boy and Boy-Girl, the probability of both children being female given one of them is is one in three.  $p(F,F | C_i=F) = 0.33$, where $C_{i}$ is my 'lazy-ish' notation for 'at least one child' (I'm sure there is a formal mathematical shorthand out there).\n",
    "\n",
    "3) Similarly to the last question, we have four options: Girl-Girl, Girl-Boy, Boy-Girl, and Boy-Boy, and our initial condition eliminates the latter two options, and each of the former options is equally likely. So $p(F,F | C_1=F) = 0.5$. The key difference between this example and the former one is the option of Boy-Girl as a potential outcome in the former."
   ]
  },
  {
   "cell_type": "markdown",
   "metadata": {},
   "source": [
    "## Problem 3\n",
    "\n",
    "1) Use `numpy` to draw $1000$ random samples from a uniform distribution between $0.1$ and $10$, and store these samples as $x$.\n",
    "\n",
    "2) Use matplotlib to make a histogram of these samples. Try to make this as aesthetically pleasing as possible (within reason).\n",
    "\n",
    "3) Compute the base-10 log of your array $x$, and store this as $y$.\n",
    "\n",
    "4) Make another histogram for $y$. Using the equation to transform probability distributions in `Lecture_2`, write here what the theoretical pdf of $y$ is, and overplot it onto your histogram.\n",
    "\n",
    "5) Compute the mean of $x$ and the mean of $y$. Now compute the median of $x$ and the median of $y$. You should note that the means are different, but the medians (as it is a cumulative statistic) are the same. The mean is affected by the scale of the sample values, but the median only depends on the ordering of the samples. Monotonic transformations (like taking the log) do not change the ordering of samples."
   ]
  },
  {
   "cell_type": "markdown",
   "metadata": {},
   "source": [
    "### Solution"
   ]
  },
  {
   "cell_type": "code",
   "execution_count": 81,
   "metadata": {},
   "outputs": [
    {
     "data": {
      "image/png": "[encoded data removed]",
      "text/plain": [
       "<Figure size 432x288 with 1 Axes>"
      ]
     },
     "metadata": {
      "needs_background": "light"
     },
     "output_type": "display_data"
    },
    {
     "data": {
      "image/png": "[encoded data removed]",
      "text/plain": [
       "<Figure size 432x288 with 1 Axes>"
      ]
     },
     "metadata": {
      "needs_background": "light"
     },
     "output_type": "display_data"
    }
   ],
   "source": [
    "#BS - import the things\n",
    "import numpy as np\n",
    "import matplotlib.pyplot as plt\n",
    "\n",
    "#BS - seed the random number for reproducibility\n",
    "np.random.seed(0)\n",
    "\n",
    "#BS - TASK 1 - choose 1000 values between 0.1 and 10\n",
    "x = np.random.uniform(low=0.1, high=10, size=1000)\n",
    "\n",
    "#BS - TASK 3 - log base 10 the values for x\n",
    "y = np.log10(x)\n",
    "\n",
    "#BS - for a uniform distribution, p(x) = 1 / b - a\n",
    "# where b is the larger endpoint and a the smaller endpoint\n",
    "# of our uniform distribution. This creates an array of \n",
    "# 1000 values at this uniform value for plotting later\n",
    "p_x = 1 / (10 - 0.1)*np.ones(1000)\n",
    "\n",
    "\n",
    "\n",
    "\n",
    "#BS - TASK 2 - create the histogram for values of x with 50 equally spaced bins\n",
    "# note: density argument normalizes so area of distribution is one\n",
    "n_x, bins_x, patches_x = plt.hist(x, bins=50, density=True)\n",
    "\n",
    "#BS - plot the p(x) function over the histogram\n",
    "plt.plot(x, p_x, color = 'black')\n",
    "plt.title('Random Uniform Distribution')\n",
    "plt.xlabel('x')\n",
    "plt.ylabel('p(x)')\n",
    "plt.show()\n",
    "\n",
    "\n",
    "\n",
    "\n",
    "#BS - TASK 4 - create the histogram for values of y\n",
    "# note: I had to use plt.scatter to plot p(x) otherwise\n",
    "# I would get something messy with point connections all\n",
    "# over the place (you can use plt.plot instead of plt.scatter)\n",
    "# below to see what I mean. This plots p(y) behind the \n",
    "# histogram, though, and I'm not sure how to fix that.\n",
    "# The math for the pdf of y is in the cell below.\n",
    "\n",
    "n_y, bins_y, patches_y = plt.hist(y, bins=50, facecolor='g', density=True)\n",
    "p_y = 10**y * np.log(10)*p_x\n",
    "plt.scatter(y, p_y, color='black')\n",
    "#plt.plot(y, p_y, color='black')\n",
    "plt.title('Transformed Random Uniform Distribution')\n",
    "plt.xlabel('y')\n",
    "plt.ylabel('p(y)')\n",
    "plt.show()"
   ]
  },
  {
   "cell_type": "markdown",
   "metadata": {},
   "source": [
    "#### Math for the pdf of y (task 4)\n",
    "\n",
    "From lecture 2, the transformed probability distribution is:\n",
    "\n",
    "$$p(y) = \\left|\\frac{dx}{dy}\\right| p(x)$$\n",
    "\n",
    "The pdf of a uniform distribution is:\n",
    "\n",
    "$$p(x) = \\frac{1}{b-a}$$\n",
    "\n",
    "where $a$ and $b$ are the bounds of the distribution (in this case $0.1$ and $10$ respectively).\n",
    "Since the transformation used is $y = log_{10}(x)$, then\n",
    "\n",
    "$$\\frac{dy}{dx} = \\frac{d}{dx}log_{10}{x} = \\frac{d}{dx}\\frac{ln(x)}{ln(10)} = \\frac{1}{xln(10)}$$\n",
    "\n",
    "and so \n",
    "\n",
    "$$\\left| \\frac{dx}{dy} \\right| = \\left| xln(10) \\right| = xln(10)$$\n",
    "\n",
    "Since both $x$ and $ln(10)$ are always $>0$\n",
    "\n",
    "This gives:\n",
    "\n",
    "$$p(y) = xln(10)\\frac{1}{b-a}$$\n",
    "\n",
    "Since $y = log_{10}(x)$, $x = 10^{y}$:\n",
    "\n",
    "$$p(y) = 10^{y}ln(10)\\frac{1}{b-a} = \\frac{ln(10)}{9.9}10^{y} \\approx 0.23 \\times 10^{y} $$\n",
    "\n"
   ]
  },
  {
   "cell_type": "code",
   "execution_count": 79,
   "metadata": {},
   "outputs": [
    {
     "name": "stdout",
     "output_type": "stream",
     "text": [
      "The mean of the uniform x distribution is 5.01 and the mean of y is 0.58\n",
      "The median of x is 4.87 and the median of y is 0.69\n",
      "\n",
      "\n",
      "The transformed mean of x is 0.70 and the mean of y is 0.58\n",
      "The transformed median of x is 0.69 and the median of y is 0.69\n",
      "The means are different, but the median is preserved!\n"
     ]
    }
   ],
   "source": [
    "#BS - find mean of x and y\n",
    "mean_x = np.mean(x)\n",
    "mean_y = np.mean(y)\n",
    "\n",
    "#BS - find median of x and y\n",
    "median_x = np.median(x)\n",
    "median_y = np.median(y)\n",
    "\n",
    "#BS - transform x values and find x and y\n",
    "log_mean_x = np.log10(mean_x)\n",
    "log_median_x = np.log10(median_x)\n",
    "\n",
    "#BS - TASK 5 - print the comparisons\n",
    "print(\"The mean of the uniform x distribution is {:.2f} and the mean of y is {:.2f}\".format(mean_x, mean_y))\n",
    "print(\"The median of x is {:.2f} and the median of y is {:.2f}\".format(median_x, median_y))\n",
    "print(\"\\n\")\n",
    "\n",
    "print(\"The transformed mean of x is {:.2f} and the mean of y is {:.2f}\".format(log_mean_x, mean_y))\n",
    "print(\"The transformed median of x is {:.2f} and the median of y is {:.2f}\".format(log_median_x, median_y))\n",
    "print(\"The means are different, but the median is preserved!\")"
   ]
  }
 ],
 "metadata": {
  "anaconda-cloud": {},
  "kernelspec": {
   "display_name": "Python 3",
   "language": "python",
   "name": "python3"
  },
  "language_info": {
   "codemirror_mode": {
    "name": "ipython",
    "version": 3
   },
   "file_extension": ".py",
   "mimetype": "text/x-python",
   "name": "python",
   "nbconvert_exporter": "python",
   "pygments_lexer": "ipython3",
   "version": "3.7.8"
  }
 },
 "nbformat": 4,
 "nbformat_minor": 4
}
